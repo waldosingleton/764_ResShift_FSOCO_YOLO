{
 "cells": [
  {
   "cell_type": "markdown",
   "metadata": {},
   "source": [
    "# 764 Research Project: \n",
    "# Enhancing YOLO Cone Detection in Formula SAE with Super-Resolution via Diffusion Models"
   ]
  },
  {
   "cell_type": "markdown",
   "metadata": {},
   "source": [
    "## ResShift"
   ]
  },
  {
   "cell_type": "markdown",
   "metadata": {},
   "source": [
    "### Setup Environment"
   ]
  },
  {
   "cell_type": "code",
   "execution_count": null,
   "metadata": {
    "vscode": {
     "languageId": "plaintext"
    }
   },
   "outputs": [],
   "source": [
    "# Install Miniconda3\n",
    "!pip install -q condacolab\n",
    "import condacolab\n",
    "condacolab.install_miniconda(prefix='/usr/local')\n",
    "print('The Miniconda has been installed...')"
   ]
  },
  {
   "cell_type": "code",
   "execution_count": null,
   "metadata": {
    "vscode": {
     "languageId": "plaintext"
    }
   },
   "outputs": [],
   "source": [
    "import os\n",
    "os.chdir(\"/content\")\n",
    "CODE_DIR = \"ResShift\"\n",
    "print(\"Done...\")"
   ]
  },
  {
   "cell_type": "code",
   "execution_count": null,
   "metadata": {
    "vscode": {
     "languageId": "plaintext"
    }
   },
   "outputs": [],
   "source": [
    "from google.colab import drive\n",
    "drive.mount('/content/drive')"
   ]
  },
  {
   "cell_type": "markdown",
   "metadata": {},
   "source": [
    "### Clone Repository"
   ]
  },
  {
   "cell_type": "code",
   "execution_count": null,
   "metadata": {
    "vscode": {
     "languageId": "plaintext"
    }
   },
   "outputs": [],
   "source": [
    "# Clone Repository\n",
    "import shutil\n",
    "from pathlib import Path\n",
    "if Path(CODE_DIR).exists():\n",
    "  shutil.rmtree(CODE_DIR)\n",
    "\n",
    "!git clone https://github.com/zsyOAOA/ResShift.git $CODE_DIR\n",
    "os.chdir(f\"./{CODE_DIR}\")\n",
    "print(\"Done...\")"
   ]
  },
  {
   "cell_type": "code",
   "execution_count": null,
   "metadata": {
    "vscode": {
     "languageId": "plaintext"
    }
   },
   "outputs": [],
   "source": [
    "\"\"\"\n",
    "Managing environments Anaconda:\n",
    "https://docs.conda.io/projects/conda/en/4.6.0/user-guide/tasks/manage-environments.html\n",
    "\"\"\"\n",
    "# Viewing the list of your environments\n",
    "!conda info --envs\n",
    "# Updating the environment, this step takes about 20 mins, please be patient.\n",
    "# conda env update -n base -f /content/ResShift/environment.yml\n",
    "!pip install -r requirements.txt\n",
    "print(\"The environemnt has beed updated...\")"
   ]
  },
  {
   "cell_type": "markdown",
   "metadata": {},
   "source": [
    "### Inference"
   ]
  },
  {
   "cell_type": "code",
   "execution_count": null,
   "metadata": {
    "vscode": {
     "languageId": "plaintext"
    }
   },
   "outputs": [],
   "source": [
    "import cv2\n",
    "import matplotlib.pyplot as plt\n",
    "def display(img1, img2):\n",
    "  fig = plt.figure(figsize=(25, 10))\n",
    "  ax1 = fig.add_subplot(1, 2, 1)\n",
    "  plt.title('Zoomed LR', fontsize=16)\n",
    "  ax1.axis('off')\n",
    "  ax2 = fig.add_subplot(1, 2, 2)\n",
    "  plt.title('ResShift', fontsize=16)\n",
    "  ax2.axis('off')\n",
    "  ax1.imshow(img1)\n",
    "  ax2.imshow(img2)\n",
    "def imread(img_path):\n",
    "  img = cv2.imread(img_path)\n",
    "  if img.ndim > 3:\n",
    "    img = img[:, :, :3]\n",
    "  img = cv2.cvtColor(img, cv2.COLOR_BGR2RGB)\n",
    "  return img"
   ]
  },
  {
   "cell_type": "markdown",
   "metadata": {},
   "source": [
    "**Upload images**"
   ]
  },
  {
   "cell_type": "code",
   "execution_count": null,
   "metadata": {
    "vscode": {
     "languageId": "plaintext"
    }
   },
   "outputs": [],
   "source": [
    "import os\n",
    "\n",
    "# Define the input and output directories\n",
    "input_dir = 'testdata/fsoco_sample/'\n",
    "#output_dir = 'results/fsoco_sample/'\n",
    "output_dir = '/content/drive/MyDrive/764results'\n",
    "\n",
    "# Loop through all files in the input directory\n",
    "for filename in os.listdir(input_dir):\n",
    "    # Check if the corresponding output .png file already exists in the output directory\n",
    "    output_png_filename = os.path.splitext(filename)[0] + '.png'\n",
    "    output_png_path = os.path.join(output_dir, output_png_filename)\n",
    "\n",
    "    if os.path.exists(output_png_path):\n",
    "        print(f\"Skipping {filename} as inference has already been run.\")\n",
    "        continue\n",
    "\n",
    "    # Check if the file is a valid image file (adjust according to your file types)\n",
    "    if filename.endswith('.jpg') or filename.endswith('.png'):\n",
    "        input_path = os.path.join(input_dir, filename)\n",
    "        print(f\"Running inference on {filename}\")\n",
    "        %system python3 inference_resshift.py -i {input_path} -o {output_dir} --task realsr --scale 4 --version v3\n",
    "        print(f\"Inference completed for {filename}\")"
   ]
  },
  {
   "cell_type": "markdown",
   "metadata": {},
   "source": [
    "## YOLO"
   ]
  },
  {
   "cell_type": "code",
   "execution_count": null,
   "metadata": {
    "vscode": {
     "languageId": "plaintext"
    }
   },
   "outputs": [],
   "source": [
    "import os\n",
    "HOME = os.getcwd()\n",
    "print(HOME)"
   ]
  },
  {
   "cell_type": "code",
   "execution_count": null,
   "metadata": {
    "vscode": {
     "languageId": "plaintext"
    }
   },
   "outputs": [],
   "source": [
    "%pip install ultralytics supervision roboflow\n",
    "import ultralytics\n",
    "ultralytics.checks()"
   ]
  },
  {
   "cell_type": "code",
   "execution_count": null,
   "metadata": {
    "vscode": {
     "languageId": "plaintext"
    }
   },
   "outputs": [],
   "source": [
    "!pip install roboflow\n",
    "\n",
    "!mkdir {HOME}/datasets\n",
    "%cd {HOME}/datasets\n",
    "\n",
    "from roboflow import Roboflow\n",
    "rf = Roboflow(api_key=\"XXXXXXXXXXXX\")\n",
    "project = rf.workspace(\"cone-detection-zoafa\").project(\"764_cones-juywk\")\n",
    "version = project.version(1)\n",
    "dataset = version.download(\"yolov11\")"
   ]
  },
  {
   "cell_type": "code",
   "execution_count": null,
   "metadata": {
    "vscode": {
     "languageId": "plaintext"
    }
   },
   "outputs": [],
   "source": [
    "%cd {HOME}\n",
    "!yolo task=detect mode=train model=yolo11s.pt data='datasets/data.yaml' epochs=100 imgsz=640 plots=True"
   ]
  },
  {
   "cell_type": "code",
   "execution_count": null,
   "metadata": {
    "vscode": {
     "languageId": "plaintext"
    }
   },
   "outputs": [],
   "source": [
    "from IPython.display import Image as IPyImage\n",
    "\n",
    "IPyImage(filename=f'{HOME}/runs/detect/train/results.png', width=600)"
   ]
  },
  {
   "cell_type": "code",
   "execution_count": null,
   "metadata": {
    "vscode": {
     "languageId": "plaintext"
    }
   },
   "outputs": [],
   "source": [
    "from ultralytics import YOLO\n",
    "\n",
    "model = YOLO('/content/runs/detect/train/weights/best.pt')  # load a custom model\n",
    "\n",
    "# Validate the model\n",
    "metrics = model.val()  # no arguments needed, dataset and settings remembered"
   ]
  },
  {
   "cell_type": "code",
   "execution_count": null,
   "metadata": {
    "vscode": {
     "languageId": "plaintext"
    }
   },
   "outputs": [],
   "source": [
    "metrics.box.map75"
   ]
  }
 ],
 "metadata": {
  "language_info": {
   "name": "python"
  }
 },
 "nbformat": 4,
 "nbformat_minor": 2
}
